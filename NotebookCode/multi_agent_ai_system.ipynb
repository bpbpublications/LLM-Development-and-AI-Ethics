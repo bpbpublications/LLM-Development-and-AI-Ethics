{
  "nbformat": 4,
  "nbformat_minor": 0,
  "metadata": {
    "colab": {
      "provenance": []
    },
    "kernelspec": {
      "name": "python3",
      "display_name": "Python 3"
    },
    "language_info": {
      "name": "python"
    }
  },
  "cells": [
    {
      "cell_type": "code",
      "execution_count": null,
      "metadata": {
        "id": "V5GENrh0sLWz"
      },
      "outputs": [],
      "source": [
        "import random\n",
        "from typing import List, Dict, Any\n",
        "from enum import Enum\n",
        "from dataclasses import dataclass\n",
        "from queue import Queue\n",
        "import time\n",
        "\n",
        "class TaskType(Enum):\n",
        "    COLLECT = \"collect\"\n",
        "    PROCESS = \"process\"\n",
        "    ANALYZE = \"analyze\"\n",
        "    REPORT = \"report\"\n",
        "\n",
        "@dataclass\n",
        "class Task:\n",
        "    task_id: int\n",
        "    task_type: TaskType\n",
        "    data: Any\n",
        "    status: str = \"pending\"\n",
        "    result: Any = None\n",
        "\n",
        "class Message:\n",
        "    def __init__(self, sender: str, receiver: str, content: Any):\n",
        "        self.sender = sender\n",
        "        self.receiver = receiver\n",
        "        self.content = content\n",
        "        self.timestamp = time.time()"
      ]
    },
    {
      "cell_type": "code",
      "source": [
        "class Agent:\n",
        "    def __init__(self, agent_id: str, agent_type: str, capabilities: List[TaskType]):\n",
        "        self.agent_id = agent_id\n",
        "        self.agent_type = agent_type\n",
        "        self.capabilities = capabilities\n",
        "        self.message_queue = Queue()\n",
        "        self.task_queue = Queue()\n",
        "        self.knowledge_base = {}\n",
        "\n",
        "    def receive_message(self, message: Message):\n",
        "        self.message_queue.put(message)\n",
        "\n",
        "    def send_message(self, receiver: str, content: Any) -> Message:\n",
        "        return Message(self.agent_id, receiver, content)\n",
        "\n",
        "    def process_task(self, task: Task) -> Task:\n",
        "        if task.task_type not in self.capabilities:\n",
        "            return Task(task.task_id, task.task_type, task.data, \"failed\", \"Agent not capable\")\n",
        "\n",
        "        # Simulate processing based on task type\n",
        "        if task.task_type == TaskType.COLLECT:\n",
        "            task.result = f\"Collected data: {task.data}\"\n",
        "        elif task.task_type == TaskType.PROCESS:\n",
        "            task.result = f\"Processed data: {task.data}\"\n",
        "        elif task.task_type == TaskType.ANALYZE:\n",
        "            task.result = f\"Analysis result: {task.data}\"\n",
        "        elif task.task_type == TaskType.REPORT:\n",
        "            task.result = f\"Report generated for: {task.data}\"\n",
        "\n",
        "        task.status = \"completed\"\n",
        "        return task\n",
        "\n",
        "    def step(self):\n",
        "        # Process messages\n",
        "        while not self.message_queue.empty():\n",
        "            message = self.message_queue.get()\n",
        "            print(f\"Agent {self.agent_id} received message from {message.sender}: {message.content}\")\n",
        "\n",
        "        # Process tasks\n",
        "        if not self.task_queue.empty():\n",
        "            task = self.task_queue.get()\n",
        "            processed_task = self.process_task(task)\n",
        "            print(f\"Agent {self.agent_id} processed task {task.task_id}: {processed_task.result}\")\n",
        "            return processed_task\n",
        "        return None\n",
        "\n"
      ],
      "metadata": {
        "id": "nMeASYcJvTPo"
      },
      "execution_count": null,
      "outputs": []
    },
    {
      "cell_type": "code",
      "source": [
        "class MultiAgentSystem:\n",
        "    def __init__(self):\n",
        "        self.agents: Dict[str, Agent] = {}\n",
        "        self.task_counter = 0\n",
        "\n",
        "    def add_agent(self, agent: Agent):\n",
        "        self.agents[agent.agent_id] = agent\n",
        "\n",
        "    def create_task(self, task_type: TaskType, data: Any) -> Task:\n",
        "        self.task_counter += 1\n",
        "        return Task(self.task_counter, task_type, data)\n",
        "\n",
        "    def assign_task(self, task: Task):\n",
        "        # Find capable agent\n",
        "        capable_agents = [\n",
        "            agent for agent in self.agents.values()\n",
        "            if task.task_type in agent.capabilities\n",
        "        ]\n",
        "\n",
        "        if capable_agents:\n",
        "            chosen_agent = random.choice(capable_agents)\n",
        "            chosen_agent.task_queue.put(task)\n",
        "            print(f\"Task {task.task_id} assigned to agent {chosen_agent.agent_id}\")\n",
        "        else:\n",
        "            print(f\"No capable agent found for task {task.task_id}\")\n",
        "\n",
        "    def broadcast_message(self, sender: str, content: Any):\n",
        "        for agent_id, agent in self.agents.items():\n",
        "            if agent_id != sender:\n",
        "                message = Message(sender, agent_id, content)\n",
        "                agent.receive_message(message)\n",
        "\n",
        "    def step(self):\n",
        "        results = []\n",
        "        for agent in self.agents.values():\n",
        "            result = agent.step()\n",
        "            if result:\n",
        "                results.append(result)\n",
        "        return results\n",
        "\n"
      ],
      "metadata": {
        "id": "yEvTBttyvOW2"
      },
      "execution_count": null,
      "outputs": []
    },
    {
      "cell_type": "code",
      "source": [
        "# Example usage\n",
        "def run_example():\n",
        "    # Create multi-agent system\n",
        "    mas = MultiAgentSystem()\n",
        "\n",
        "    # Create agents with different capabilities\n",
        "    collector = Agent(\"collector_1\", \"collector\", [TaskType.COLLECT])\n",
        "    processor = Agent(\"processor_1\", \"processor\", [TaskType.PROCESS])\n",
        "    analyzer = Agent(\"analyzer_1\", \"analyzer\", [TaskType.ANALYZE])\n",
        "    reporter = Agent(\"reporter_1\", \"reporter\", [TaskType.REPORT])\n",
        "\n",
        "    # Add agents to system\n",
        "    for agent in [collector, processor, analyzer, reporter]:\n",
        "        mas.add_agent(agent)\n",
        "\n",
        "    # Create and assign tasks\n",
        "    tasks = [\n",
        "        mas.create_task(TaskType.COLLECT, \"sensor_data\"),\n",
        "        mas.create_task(TaskType.PROCESS, \"raw_data\"),\n",
        "        mas.create_task(TaskType.ANALYZE, \"processed_data\"),\n",
        "        mas.create_task(TaskType.REPORT, \"analysis_results\")\n",
        "    ]\n",
        "\n",
        "    for task in tasks:\n",
        "        mas.assign_task(task)\n",
        "\n",
        "    # Broadcast a message\n",
        "    mas.broadcast_message(\"system\", \"Starting simulation\")\n",
        "\n",
        "    # Run simulation for a few steps\n",
        "    for _ in range(5):\n",
        "        results = mas.step()\n",
        "        if results:\n",
        "            print(\"\\nSimulation step:\")\n",
        "            print(\"Task results:\", results)"
      ],
      "metadata": {
        "id": "o--QgGFfvOfe"
      },
      "execution_count": null,
      "outputs": []
    },
    {
      "cell_type": "code",
      "source": [
        "if __name__ == \"__main__\":\n",
        "    run_example()"
      ],
      "metadata": {
        "colab": {
          "base_uri": "https://localhost:8080/"
        },
        "id": "l8_pvJmSvOnj",
        "outputId": "986e2664-3aff-4b05-81d3-a33b91faf842"
      },
      "execution_count": null,
      "outputs": [
        {
          "output_type": "stream",
          "name": "stdout",
          "text": [
            "Task 1 assigned to agent collector_1\n",
            "Task 2 assigned to agent processor_1\n",
            "Task 3 assigned to agent analyzer_1\n",
            "Task 4 assigned to agent reporter_1\n",
            "Agent collector_1 received message from system: Starting simulation\n",
            "Agent collector_1 processed task 1: Collected data: sensor_data\n",
            "Agent processor_1 received message from system: Starting simulation\n",
            "Agent processor_1 processed task 2: Processed data: raw_data\n",
            "Agent analyzer_1 received message from system: Starting simulation\n",
            "Agent analyzer_1 processed task 3: Analysis result: processed_data\n",
            "Agent reporter_1 received message from system: Starting simulation\n",
            "Agent reporter_1 processed task 4: Report generated for: analysis_results\n",
            "\n",
            "Simulation step:\n",
            "Task results: [Task(task_id=1, task_type=<TaskType.COLLECT: 'collect'>, data='sensor_data', status='completed', result='Collected data: sensor_data'), Task(task_id=2, task_type=<TaskType.PROCESS: 'process'>, data='raw_data', status='completed', result='Processed data: raw_data'), Task(task_id=3, task_type=<TaskType.ANALYZE: 'analyze'>, data='processed_data', status='completed', result='Analysis result: processed_data'), Task(task_id=4, task_type=<TaskType.REPORT: 'report'>, data='analysis_results', status='completed', result='Report generated for: analysis_results')]\n"
          ]
        }
      ]
    }
  ]
}