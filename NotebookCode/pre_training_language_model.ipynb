{
  "nbformat": 4,
  "nbformat_minor": 0,
  "metadata": {
    "colab": {
      "provenance": []
    },
    "kernelspec": {
      "name": "python3",
      "display_name": "Python 3"
    },
    "language_info": {
      "name": "python"
    }
  },
  "cells": [
    {
      "cell_type": "code",
      "execution_count": null,
      "metadata": {
        "id": "zf78m55frH_c"
      },
      "outputs": [],
      "source": [
        "import torch\n",
        "import torch.nn as nn\n",
        "import torch.optim as optim\n",
        "from torch.utils.data import Dataset, DataLoader\n",
        "\n",
        "# Simple preprocessing function\n",
        "def prepare_data(text):\n",
        "    \"\"\"Convert text to character-level sequences.\"\"\"\n",
        "    chars = list(set(text))\n",
        "    char_to_idx = {ch: i for i, ch in enumerate(chars)}\n",
        "    idx_to_char = {i: ch for i, ch in enumerate(chars)}\n",
        "\n",
        "    # Convert text to indices\n",
        "    data = [char_to_idx[ch] for ch in text]\n",
        "    return data, char_to_idx, idx_to_char\n"
      ]
    },
    {
      "cell_type": "code",
      "source": [
        "# Simple dataset class\n",
        "class TextDataset(Dataset):\n",
        "    def __init__(self, data, sequence_length):\n",
        "        self.data = data\n",
        "        self.sequence_length = sequence_length\n",
        "\n",
        "    def __len__(self):\n",
        "        return len(self.data) - self.sequence_length\n",
        "\n",
        "    def __getitem__(self, index):\n",
        "        # Get input sequence and target\n",
        "        x = self.data[index:index + self.sequence_length]\n",
        "        y = self.data[index + 1:index + self.sequence_length + 1]\n",
        "        return torch.tensor(x), torch.tensor(y)\n",
        "\n",
        "# Simple language model\n",
        "class SimpleLanguageModel(nn.Module):\n",
        "    def __init__(self, vocab_size, embedding_dim=32, hidden_dim=64):\n",
        "        super().__init__()\n",
        "        self.embedding = nn.Embedding(vocab_size, embedding_dim)\n",
        "        self.lstm = nn.LSTM(embedding_dim, hidden_dim, batch_first=True)\n",
        "        self.fc = nn.Linear(hidden_dim, vocab_size)\n",
        "\n",
        "    def forward(self, x):\n",
        "        embedded = self.embedding(x)\n",
        "        lstm_out, _ = self.lstm(embedded)\n",
        "        output = self.fc(lstm_out)\n",
        "        return output\n"
      ],
      "metadata": {
        "id": "6NjgCfnvXiCc"
      },
      "execution_count": null,
      "outputs": []
    },
    {
      "cell_type": "code",
      "source": [
        "# Training function\n",
        "def train_model(model, train_loader, epochs=10, learning_rate=0.01):\n",
        "    criterion = nn.CrossEntropyLoss()\n",
        "    optimizer = optim.Adam(model.parameters(), lr=learning_rate)\n",
        "\n",
        "    for epoch in range(epochs):\n",
        "        model.train()\n",
        "        total_loss = 0\n",
        "\n",
        "        for batch_x, batch_y in train_loader:\n",
        "            optimizer.zero_grad()\n",
        "            output = model(batch_x)\n",
        "            loss = criterion(output.view(-1, output.shape[-1]), batch_y.view(-1))\n",
        "\n",
        "            loss.backward()\n",
        "            optimizer.step()\n",
        "\n",
        "            total_loss += loss.item()\n",
        "\n",
        "        avg_loss = total_loss / len(train_loader)\n",
        "        print(f'Epoch {epoch+1}/{epochs}, Loss: {avg_loss:.4f}')\n",
        "\n"
      ],
      "metadata": {
        "id": "Nj0gKHc7XiWR"
      },
      "execution_count": null,
      "outputs": []
    },
    {
      "cell_type": "code",
      "source": [
        "# Text generation function\n",
        "def generate_text(model, seed_text, char_to_idx, idx_to_char, length=100):\n",
        "    model.eval()\n",
        "    current_chars = [char_to_idx[ch] for ch in seed_text]\n",
        "    generated_text = seed_text\n",
        "\n",
        "    with torch.no_grad():\n",
        "        for _ in range(length):\n",
        "            # Prepare input\n",
        "            x = torch.tensor([current_chars])\n",
        "\n",
        "            # Get prediction\n",
        "            output = model(x)\n",
        "            next_char_idx = torch.argmax(output[0, -1]).item()\n",
        "\n",
        "            # Add predicted character\n",
        "            generated_text += idx_to_char[next_char_idx]\n",
        "            current_chars = current_chars[1:] + [next_char_idx]\n",
        "\n",
        "    return generated_text\n"
      ],
      "metadata": {
        "id": "nzE0E_yMXiY5"
      },
      "execution_count": null,
      "outputs": []
    },
    {
      "cell_type": "code",
      "source": [
        "# Sample text\n",
        "text = \"\"\"\n",
        "The quick brown fox jumps over the lazy dog.\n",
        "The lazy dog sleeps while the quick brown fox runs.\n",
        "The fox and dog play together in the garden.\n",
        "\"\"\"\n",
        "\n",
        "# Prepare data\n",
        "sequence_length = 20\n",
        "data, char_to_idx, idx_to_char = prepare_data(text)\n",
        "\n",
        "# Create dataset and dataloader\n",
        "dataset = TextDataset(data, sequence_length)\n",
        "train_loader = DataLoader(dataset, batch_size=32, shuffle=True)\n",
        "\n",
        "# Initialize model\n",
        "model = SimpleLanguageModel(len(char_to_idx))\n",
        "\n",
        "# Train model\n",
        "train_model(model, train_loader, epochs=50)"
      ],
      "metadata": {
        "colab": {
          "base_uri": "https://localhost:8080/"
        },
        "id": "oAa5g0S2X-25",
        "outputId": "b6877799-d760-468e-8b2a-a05e460010d4"
      },
      "execution_count": null,
      "outputs": [
        {
          "output_type": "stream",
          "name": "stdout",
          "text": [
            "Epoch 1/50, Loss: 3.2514\n",
            "Epoch 2/50, Loss: 2.6725\n",
            "Epoch 3/50, Loss: 2.0588\n",
            "Epoch 4/50, Loss: 1.4824\n",
            "Epoch 5/50, Loss: 1.0144\n",
            "Epoch 6/50, Loss: 0.6787\n",
            "Epoch 7/50, Loss: 0.4695\n",
            "Epoch 8/50, Loss: 0.3365\n",
            "Epoch 9/50, Loss: 0.2577\n",
            "Epoch 10/50, Loss: 0.2081\n",
            "Epoch 11/50, Loss: 0.1769\n",
            "Epoch 12/50, Loss: 0.1569\n",
            "Epoch 13/50, Loss: 0.1391\n",
            "Epoch 14/50, Loss: 0.1299\n",
            "Epoch 15/50, Loss: 0.1217\n",
            "Epoch 16/50, Loss: 0.1183\n",
            "Epoch 17/50, Loss: 0.1148\n",
            "Epoch 18/50, Loss: 0.1112\n",
            "Epoch 19/50, Loss: 0.1113\n",
            "Epoch 20/50, Loss: 0.1054\n",
            "Epoch 21/50, Loss: 0.1061\n",
            "Epoch 22/50, Loss: 0.1041\n",
            "Epoch 23/50, Loss: 0.1041\n",
            "Epoch 24/50, Loss: 0.1040\n",
            "Epoch 25/50, Loss: 0.1018\n",
            "Epoch 26/50, Loss: 0.1002\n",
            "Epoch 27/50, Loss: 0.1007\n",
            "Epoch 28/50, Loss: 0.0974\n",
            "Epoch 29/50, Loss: 0.0983\n",
            "Epoch 30/50, Loss: 0.0974\n",
            "Epoch 31/50, Loss: 0.0963\n",
            "Epoch 32/50, Loss: 0.0969\n",
            "Epoch 33/50, Loss: 0.0988\n",
            "Epoch 34/50, Loss: 0.0981\n",
            "Epoch 35/50, Loss: 0.0984\n",
            "Epoch 36/50, Loss: 0.0953\n",
            "Epoch 37/50, Loss: 0.0957\n",
            "Epoch 38/50, Loss: 0.0951\n",
            "Epoch 39/50, Loss: 0.0947\n",
            "Epoch 40/50, Loss: 0.0960\n",
            "Epoch 41/50, Loss: 0.0938\n",
            "Epoch 42/50, Loss: 0.0949\n",
            "Epoch 43/50, Loss: 0.0955\n",
            "Epoch 44/50, Loss: 0.0949\n",
            "Epoch 45/50, Loss: 0.0949\n",
            "Epoch 46/50, Loss: 0.0939\n",
            "Epoch 47/50, Loss: 0.0939\n",
            "Epoch 48/50, Loss: 0.0928\n",
            "Epoch 49/50, Loss: 0.0941\n",
            "Epoch 50/50, Loss: 0.0928\n"
          ]
        }
      ]
    },
    {
      "cell_type": "code",
      "source": [
        "# Generate text\n",
        "seed = \"The quick\"\n",
        "generated = generate_text(model, seed, char_to_idx, idx_to_char, length=100)\n",
        "print(\"\\nGenerated text:\")\n",
        "print(generated)"
      ],
      "metadata": {
        "colab": {
          "base_uri": "https://localhost:8080/"
        },
        "id": "rTerIDInX_kH",
        "outputId": "72d1407b-d163-4c60-d048-4b8b6f870c66"
      },
      "execution_count": null,
      "outputs": [
        {
          "output_type": "stream",
          "name": "stdout",
          "text": [
            "\n",
            "Generated text:\n",
            "The quick brown fox runs.\n",
            "The fox and dog play together in the lazy dog sleeps while the quick brown fox runs\n"
          ]
        }
      ]
    },
    {
      "cell_type": "code",
      "source": [
        "# Generate text\n",
        "seed = \"garden\"\n",
        "generated = generate_text(model, seed, char_to_idx, idx_to_char, length=100)\n",
        "print(\"\\nGenerated text:\")\n",
        "print(generated)"
      ],
      "metadata": {
        "colab": {
          "base_uri": "https://localhost:8080/"
        },
        "id": "M16MasIfYc9v",
        "outputId": "e310356e-6dc9-4219-a3f3-e42548f5a17f"
      },
      "execution_count": null,
      "outputs": [
        {
          "output_type": "stream",
          "name": "stdout",
          "text": [
            "\n",
            "Generated text:\n",
            "garden.\n",
            "The fox and dog play together in together in together in together in together in together in toget\n"
          ]
        }
      ]
    }
  ]
}